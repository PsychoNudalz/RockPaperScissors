{
 "cells": [
  {
   "metadata": {},
   "cell_type": "markdown",
   "source": "# Initialise",
   "id": "46dd7ad24398ea3"
  },
  {
   "metadata": {
    "collapsed": true,
    "ExecuteTime": {
     "end_time": "2025-10-02T04:00:43.888763Z",
     "start_time": "2025-10-02T04:00:43.584390Z"
    }
   },
   "cell_type": "code",
   "source": [
    "import Game_FrontEnd as FE\n",
    "from Game_API import *\n",
    "import requests as rq\n",
    "import init\n",
    "\n",
    "IP = \"127.0.0.1\"\n",
    "PORT = 8000\n",
    "URL = f\"http://{IP}:{PORT}/\"\n",
    "start_server()"
   ],
   "id": "198fb2641a3b13c5",
   "outputs": [
    {
     "name": "stdout",
     "output_type": "stream",
     "text": [
      "2025-10-02 14:00:43,884 [INFO] Logging test working\n",
      "2025-10-02 14:00:43,886 [INFO] Server running at http://127.0.0.1:8000/\n"
     ]
    },
    {
     "name": "stderr",
     "output_type": "stream",
     "text": [
      "INFO:     Started server process [27056]\n",
      "INFO:     Waiting for application startup.\n",
      "INFO:     Application startup complete.\n",
      "INFO:     Uvicorn running on http://127.0.0.1:8000 (Press CTRL+C to quit)\n"
     ]
    },
    {
     "name": "stdout",
     "output_type": "stream",
     "text": [
      "INFO:     127.0.0.1:54042 - \"GET /start HTTP/1.1\" 200 OK\n",
      "INFO:     127.0.0.1:54047 - \"GET /display HTTP/1.1\" 200 OK\n",
      "INFO:     127.0.0.1:54053 - \"GET /GECheck HTTP/1.1\" 200 OK\n",
      "INFO:     127.0.0.1:54054 - \"POST /play?move=rock HTTP/1.1\" 200 OK\n",
      "INFO:     127.0.0.1:60025 - \"GET /display HTTP/1.1\" 200 OK\n",
      "INFO:     127.0.0.1:65160 - \"GET /GECheck HTTP/1.1\" 200 OK\n",
      "INFO:     127.0.0.1:65161 - \"POST /play?move=paper HTTP/1.1\" 200 OK\n",
      "INFO:     127.0.0.1:65167 - \"GET /display HTTP/1.1\" 200 OK\n",
      "INFO:     127.0.0.1:65170 - \"GET /GECheck HTTP/1.1\" 200 OK\n",
      "INFO:     127.0.0.1:65171 - \"POST /play?move=scissors HTTP/1.1\" 200 OK\n",
      "INFO:     127.0.0.1:65176 - \"GET /GECheck HTTP/1.1\" 200 OK\n",
      "INFO:     127.0.0.1:65177 - \"POST /play?move=dynamite HTTP/1.1\" 200 OK\n",
      "INFO:     127.0.0.1:65185 - \"GET /GECheck HTTP/1.1\" 200 OK\n",
      "INFO:     127.0.0.1:65186 - \"GET /score HTTP/1.1\" 200 OK\n",
      "INFO:     127.0.0.1:65191 - \"GET /GECheck HTTP/1.1\" 200 OK\n",
      "INFO:     127.0.0.1:65192 - \"POST /play?move=dynamite HTTP/1.1\" 200 OK\n",
      "INFO:     127.0.0.1:65194 - \"GET /GECheck HTTP/1.1\" 200 OK\n",
      "INFO:     127.0.0.1:65195 - \"POST /play?move=scissors HTTP/1.1\" 200 OK\n",
      "INFO:     127.0.0.1:65198 - \"GET /GECheck HTTP/1.1\" 200 OK\n",
      "INFO:     127.0.0.1:65199 - \"GET /score HTTP/1.1\" 200 OK\n",
      "INFO:     127.0.0.1:65202 - \"GET /GECheck HTTP/1.1\" 200 OK\n",
      "INFO:     127.0.0.1:65203 - \"POST /play?move=dynamite HTTP/1.1\" 200 OK\n",
      "INFO:     127.0.0.1:65205 - \"GET /GECheck HTTP/1.1\" 200 OK\n",
      "INFO:     127.0.0.1:65206 - \"POST /play?move=dynamite HTTP/1.1\" 200 OK\n",
      "INFO:     127.0.0.1:65208 - \"GET /GECheck HTTP/1.1\" 200 OK\n",
      "INFO:     127.0.0.1:65209 - \"GET /score HTTP/1.1\" 200 OK\n",
      "INFO:     127.0.0.1:52213 - \"GET /display HTTP/1.1\" 200 OK\n",
      "INFO:     127.0.0.1:53597 - \"GET /start HTTP/1.1\" 200 OK\n",
      "INFO:     127.0.0.1:53601 - \"GET /display HTTP/1.1\" 200 OK\n",
      "INFO:     127.0.0.1:53605 - \"GET /GECheck HTTP/1.1\" 200 OK\n",
      "INFO:     127.0.0.1:53606 - \"POST /play?move=rock HTTP/1.1\" 200 OK\n",
      "INFO:     127.0.0.1:53609 - \"GET /GECheck HTTP/1.1\" 200 OK\n",
      "INFO:     127.0.0.1:53610 - \"POST /play?move=paper HTTP/1.1\" 200 OK\n",
      "INFO:     127.0.0.1:53613 - \"GET /GECheck HTTP/1.1\" 200 OK\n",
      "INFO:     127.0.0.1:53614 - \"POST /play?move=scissors HTTP/1.1\" 200 OK\n",
      "INFO:     127.0.0.1:53615 - \"GET /GECheck HTTP/1.1\" 200 OK\n",
      "INFO:     127.0.0.1:53616 - \"POST /play?move=scissors HTTP/1.1\" 200 OK\n",
      "INFO:     127.0.0.1:53619 - \"GET /GECheck HTTP/1.1\" 200 OK\n",
      "INFO:     127.0.0.1:53620 - \"POST /play?move=dynamite HTTP/1.1\" 200 OK\n",
      "INFO:     127.0.0.1:53621 - \"GET /GECheck HTTP/1.1\" 200 OK\n",
      "INFO:     127.0.0.1:53622 - \"POST /play?move=dynamite HTTP/1.1\" 200 OK\n",
      "INFO:     127.0.0.1:53625 - \"GET /GECheck HTTP/1.1\" 200 OK\n",
      "INFO:     127.0.0.1:53626 - \"GET /score HTTP/1.1\" 200 OK\n",
      "INFO:     127.0.0.1:53629 - \"GET /display HTTP/1.1\" 200 OK\n",
      "INFO:     127.0.0.1:53632 - \"GET /GECheck HTTP/1.1\" 200 OK\n",
      "INFO:     127.0.0.1:53633 - \"POST /play?move=scissors HTTP/1.1\" 200 OK\n",
      "INFO:     127.0.0.1:53637 - \"GET /GECheck HTTP/1.1\" 200 OK\n",
      "INFO:     127.0.0.1:53638 - \"GET /score HTTP/1.1\" 200 OK\n"
     ]
    }
   ],
   "execution_count": 1
  },
  {
   "metadata": {},
   "cell_type": "markdown",
   "source": [
    "# Server Controls (Optional)\n",
    "Don't touch it unless server is broken\n"
   ],
   "id": "8900fbe92669cfe7"
  },
  {
   "metadata": {},
   "cell_type": "code",
   "source": "start_server()  # starts FastAPI in the background",
   "id": "c98e74f546a6f01e",
   "outputs": [],
   "execution_count": null
  },
  {
   "metadata": {},
   "cell_type": "code",
   "source": "stop_server()  # stops the server without killing the notebook",
   "id": "1904551446089036",
   "outputs": [],
   "execution_count": null
  },
  {
   "metadata": {},
   "cell_type": "code",
   "source": [
    "response = rq.get(\"http://127.0.0.1:8000/ping\")\n",
    "print(response.json())"
   ],
   "id": "b6413fffdf2c28db",
   "outputs": [],
   "execution_count": null
  },
  {
   "metadata": {},
   "cell_type": "markdown",
   "source": "# Start Game",
   "id": "3213c6abd291bc8d"
  },
  {
   "metadata": {
    "ExecuteTime": {
     "end_time": "2025-10-02T04:01:45.182104Z",
     "start_time": "2025-10-02T04:01:45.175034Z"
    }
   },
   "cell_type": "code",
   "source": [
    "# Run server inside Jupyter\n",
    "resp = rq.get(URL + \"start\")\n",
    "print(resp.json())"
   ],
   "id": "19966a84ccb4b24e",
   "outputs": [
    {
     "name": "stdout",
     "output_type": "stream",
     "text": [
      "2025-10-02 14:01:45,178 [INFO] Human Cards:[<Card.ROCK: 'rock'>, <Card.SCISSOR: 'scissor'>, <Card.DYNAMITE: 'dynamite'>, <Card.SCISSOR: 'scissor'>, <Card.SCISSOR: 'scissor'>]\n",
      "{'message': 'Rock, Paper, Scissors, Dynamite has begun!'}\n"
     ]
    }
   ],
   "execution_count": 18
  },
  {
   "metadata": {},
   "cell_type": "markdown",
   "source": "# Playing Game",
   "id": "2e75fa11754f4449"
  },
  {
   "metadata": {},
   "cell_type": "markdown",
   "source": "## Display Cards",
   "id": "5b7832a366351bae"
  },
  {
   "metadata": {
    "ExecuteTime": {
     "end_time": "2025-10-02T04:02:07.034494Z",
     "start_time": "2025-10-02T04:02:07.027616Z"
    }
   },
   "cell_type": "code",
   "source": [
    "resp = rq.get(URL + \"display\")\n",
    "j = resp.json()\n",
    "print(j.get(\"hand\"))\n",
    "# print(resp.get(\"hand\"))"
   ],
   "id": "9bc74c66ac77e37f",
   "outputs": [
    {
     "name": "stdout",
     "output_type": "stream",
     "text": [
      "2025-10-02 14:02:07,030 [INFO] Player hand: ['SCISSOR']\n",
      "['SCISSOR']\n"
     ]
    }
   ],
   "execution_count": 27
  },
  {
   "metadata": {},
   "cell_type": "markdown",
   "source": "## Playing Hand",
   "id": "c741ffd0789d93af"
  },
  {
   "metadata": {},
   "cell_type": "markdown",
   "source": "### Rock",
   "id": "b536665395b0746b"
  },
  {
   "metadata": {
    "ExecuteTime": {
     "end_time": "2025-10-02T04:01:52.599089Z",
     "start_time": "2025-10-02T04:01:52.583624Z"
    }
   },
   "cell_type": "code",
   "source": "FE.PlayCard(URL,\"rock\")",
   "id": "4631b127e7e6087",
   "outputs": [
    {
     "name": "stdout",
     "output_type": "stream",
     "text": [
      "2025-10-02 14:01:52,590 [INFO] Player rock received\n",
      "2025-10-02 14:01:52,591 [INFO] Player Card.ROCK is playing\n",
      "2025-10-02 14:01:52,592 [INFO] AICard:Card.SCISSOR, result: WIN\n",
      "2025-10-02 14:01:52,592 [INFO] Remaining cards:[<Card.SCISSOR: 'scissor'>, <Card.DYNAMITE: 'dynamite'>, <Card.SCISSOR: 'scissor'>, <Card.SCISSOR: 'scissor'>]\n",
      "Win\n"
     ]
    },
    {
     "data": {
      "text/plain": [
       "0"
      ]
     },
     "execution_count": 20,
     "metadata": {},
     "output_type": "execute_result"
    }
   ],
   "execution_count": 20
  },
  {
   "metadata": {},
   "cell_type": "markdown",
   "source": "### Paper",
   "id": "2eaed8b84ecdebdf"
  },
  {
   "metadata": {
    "ExecuteTime": {
     "end_time": "2025-10-02T04:01:55.375143Z",
     "start_time": "2025-10-02T04:01:55.362355Z"
    }
   },
   "cell_type": "code",
   "source": "FE.PlayCard(URL,\"paper\")",
   "id": "7b3ac2a7f71f5761",
   "outputs": [
    {
     "name": "stdout",
     "output_type": "stream",
     "text": [
      "2025-10-02 14:01:55,368 [INFO] Player paper received\n",
      "2025-10-02 14:01:55,369 [INFO] Player Card.PAPER is playing\n",
      "2025-10-02 14:01:55,369 [INFO] Card Card.PAPER not in Human\n",
      "You don't have a 'paper' Card\n"
     ]
    },
    {
     "data": {
      "text/plain": [
       "2"
      ]
     },
     "execution_count": 21,
     "metadata": {},
     "output_type": "execute_result"
    }
   ],
   "execution_count": 21
  },
  {
   "metadata": {},
   "cell_type": "markdown",
   "source": "### Scissors",
   "id": "f56c61776f318c56"
  },
  {
   "metadata": {
    "ExecuteTime": {
     "end_time": "2025-10-02T04:02:09.745070Z",
     "start_time": "2025-10-02T04:02:09.730621Z"
    }
   },
   "cell_type": "code",
   "source": "FE.PlayCard(URL,\"scissors\")",
   "id": "b75b95d83ecae4be",
   "outputs": [
    {
     "name": "stdout",
     "output_type": "stream",
     "text": [
      "2025-10-02 14:02:09,737 [INFO] Player scissors received\n",
      "2025-10-02 14:02:09,738 [INFO] Player Card.SCISSOR is playing\n",
      "2025-10-02 14:02:09,739 [INFO] AICard:Card.ROCK, result: LOSE\n",
      "2025-10-02 14:02:09,739 [INFO] Remaining cards:[]\n",
      "Lose\n"
     ]
    },
    {
     "data": {
      "text/plain": [
       "0"
      ]
     },
     "execution_count": 28,
     "metadata": {},
     "output_type": "execute_result"
    }
   ],
   "execution_count": 28
  },
  {
   "metadata": {},
   "cell_type": "markdown",
   "source": "### Dynamite",
   "id": "7347825ad2d890f1"
  },
  {
   "metadata": {
    "ExecuteTime": {
     "end_time": "2025-10-02T04:02:01.586772Z",
     "start_time": "2025-10-02T04:02:01.571207Z"
    }
   },
   "cell_type": "code",
   "source": "FE.PlayCard(URL,\"dynamite\")",
   "id": "7e3dcc108d3f03c8",
   "outputs": [
    {
     "name": "stdout",
     "output_type": "stream",
     "text": [
      "2025-10-02 14:02:01,578 [INFO] Player dynamite received\n",
      "2025-10-02 14:02:01,579 [INFO] Player Card.DYNAMITE is playing\n",
      "2025-10-02 14:02:01,580 [INFO] Card Card.DYNAMITE not in Human\n",
      "You don't have a 'dynamite' Card\n"
     ]
    },
    {
     "data": {
      "text/plain": [
       "2"
      ]
     },
     "execution_count": 25,
     "metadata": {},
     "output_type": "execute_result"
    }
   ],
   "execution_count": 25
  },
  {
   "metadata": {},
   "cell_type": "markdown",
   "source": "# Score",
   "id": "a29349acef9be749"
  },
  {
   "metadata": {
    "ExecuteTime": {
     "end_time": "2025-10-02T04:02:12.034286Z",
     "start_time": "2025-10-02T04:02:12.023648Z"
    }
   },
   "cell_type": "code",
   "source": "FE.GetScore(URL)",
   "id": "797cbfcc5337e302",
   "outputs": [
    {
     "name": "stdout",
     "output_type": "stream",
     "text": [
      "Human: 2\n",
      "AI: 2\n"
     ]
    },
    {
     "data": {
      "text/plain": [
       "0"
      ]
     },
     "execution_count": 29,
     "metadata": {},
     "output_type": "execute_result"
    }
   ],
   "execution_count": 29
  }
 ],
 "metadata": {
  "kernelspec": {
   "display_name": "Python 3",
   "language": "python",
   "name": "python3"
  },
  "language_info": {
   "codemirror_mode": {
    "name": "ipython",
    "version": 2
   },
   "file_extension": ".py",
   "mimetype": "text/x-python",
   "name": "python",
   "nbconvert_exporter": "python",
   "pygments_lexer": "ipython2",
   "version": "2.7.6"
  }
 },
 "nbformat": 4,
 "nbformat_minor": 5
}
