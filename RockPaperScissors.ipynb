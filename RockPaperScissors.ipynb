{
 "cells": [
  {
   "metadata": {},
   "cell_type": "markdown",
   "source": "# Initialise",
   "id": "46dd7ad24398ea3"
  },
  {
   "metadata": {
    "collapsed": true,
    "ExecuteTime": {
     "end_time": "2025-10-02T01:16:12.972708Z",
     "start_time": "2025-10-02T01:16:12.224168Z"
    }
   },
   "cell_type": "code",
   "source": [
    "import Game_FrontEnd as FE\n",
    "from Game_API import *\n",
    "import requests as rq\n",
    "import init\n",
    "\n",
    "IP = \"127.0.0.1\"\n",
    "PORT = 8000\n",
    "URL = f\"http://{IP}:{PORT}/\"\n",
    "start_server()"
   ],
   "id": "198fb2641a3b13c5",
   "outputs": [
    {
     "name": "stdout",
     "output_type": "stream",
     "text": [
      "2025-10-02 02:16:12,955 [INFO] Logging test working\n",
      "2025-10-02 02:16:12,966 [INFO] Server running at http://127.0.0.1:8000/\n"
     ]
    },
    {
     "name": "stderr",
     "output_type": "stream",
     "text": [
      "INFO:     Started server process [20296]\n",
      "INFO:     Waiting for application startup.\n",
      "INFO:     Application startup complete.\n",
      "INFO:     Uvicorn running on http://127.0.0.1:8000 (Press CTRL+C to quit)\n"
     ]
    },
    {
     "name": "stdout",
     "output_type": "stream",
     "text": [
      "INFO:     127.0.0.1:59069 - \"GET /start HTTP/1.1\" 200 OK\n",
      "INFO:     127.0.0.1:59082 - \"GET /GECheck HTTP/1.1\" 200 OK\n",
      "INFO:     127.0.0.1:59083 - \"GET /score HTTP/1.1\" 200 OK\n",
      "INFO:     127.0.0.1:59252 - \"GET /GECheck HTTP/1.1\" 200 OK\n",
      "INFO:     127.0.0.1:59253 - \"POST /play?move=dynamite HTTP/1.1\" 200 OK\n",
      "INFO:     127.0.0.1:59271 - \"GET /GECheck HTTP/1.1\" 200 OK\n",
      "INFO:     127.0.0.1:59272 - \"GET /score HTTP/1.1\" 200 OK\n",
      "INFO:     127.0.0.1:54989 - \"GET /display HTTP/1.1\" 200 OK\n",
      "INFO:     127.0.0.1:55006 - \"GET /GECheck HTTP/1.1\" 200 OK\n",
      "INFO:     127.0.0.1:55007 - \"POST /play?move=rock HTTP/1.1\" 200 OK\n",
      "INFO:     127.0.0.1:55016 - \"GET /GECheck HTTP/1.1\" 200 OK\n",
      "INFO:     127.0.0.1:55017 - \"POST /play?move=paper HTTP/1.1\" 200 OK\n",
      "INFO:     127.0.0.1:55021 - \"GET /GECheck HTTP/1.1\" 200 OK\n",
      "INFO:     127.0.0.1:55022 - \"POST /play?move=scissors HTTP/1.1\" 200 OK\n",
      "INFO:     127.0.0.1:55031 - \"GET /GECheck HTTP/1.1\" 200 OK\n",
      "INFO:     127.0.0.1:55032 - \"POST /play?move=dynamite HTTP/1.1\" 200 OK\n",
      "INFO:     127.0.0.1:55043 - \"GET /GECheck HTTP/1.1\" 200 OK\n",
      "INFO:     127.0.0.1:55044 - \"GET /score HTTP/1.1\" 200 OK\n",
      "INFO:     127.0.0.1:55069 - \"GET /display HTTP/1.1\" 200 OK\n",
      "INFO:     127.0.0.1:55072 - \"GET /display HTTP/1.1\" 200 OK\n",
      "INFO:     127.0.0.1:55078 - \"GET /display HTTP/1.1\" 200 OK\n"
     ]
    }
   ],
   "execution_count": 1
  },
  {
   "metadata": {},
   "cell_type": "markdown",
   "source": "# Server Controls",
   "id": "8900fbe92669cfe7"
  },
  {
   "metadata": {},
   "cell_type": "code",
   "source": "start_server()  # starts FastAPI in the background",
   "id": "c98e74f546a6f01e",
   "outputs": [],
   "execution_count": null
  },
  {
   "metadata": {},
   "cell_type": "code",
   "source": "stop_server()  # stops the server without killing the notebook",
   "id": "1904551446089036",
   "outputs": [],
   "execution_count": null
  },
  {
   "metadata": {},
   "cell_type": "code",
   "source": [
    "response = rq.get(\"http://127.0.0.1:8000/ping\")\n",
    "print(response.json())"
   ],
   "id": "b6413fffdf2c28db",
   "outputs": [],
   "execution_count": null
  },
  {
   "metadata": {},
   "cell_type": "markdown",
   "source": "# Start Game",
   "id": "3213c6abd291bc8d"
  },
  {
   "metadata": {
    "ExecuteTime": {
     "end_time": "2025-10-02T01:16:13.612099Z",
     "start_time": "2025-10-02T01:16:13.580302Z"
    }
   },
   "cell_type": "code",
   "source": [
    "# Run server inside Jupyter\n",
    "resp = rq.get(URL + \"start\")\n",
    "print(resp.json())"
   ],
   "id": "19966a84ccb4b24e",
   "outputs": [
    {
     "name": "stdout",
     "output_type": "stream",
     "text": [
      "2025-10-02 02:16:13,601 [INFO] Human Cards:[<Card.DYNAMITE: -1>, <Card.DYNAMITE: -1>, <Card.SCISSOR: 3>, <Card.ROCK: 1>, <Card.PAPER: 2>]\n",
      "{'message': 'Rock, Paper, Scissors, Dynamite has begun!'}\n"
     ]
    }
   ],
   "execution_count": 2
  },
  {
   "metadata": {},
   "cell_type": "markdown",
   "source": "# Playing Game",
   "id": "2e75fa11754f4449"
  },
  {
   "metadata": {},
   "cell_type": "code",
   "source": "",
   "id": "1ebb78485311e661",
   "outputs": [],
   "execution_count": null
  },
  {
   "metadata": {},
   "cell_type": "markdown",
   "source": "## Display Cards",
   "id": "5b7832a366351bae"
  },
  {
   "metadata": {
    "ExecuteTime": {
     "end_time": "2025-10-02T01:17:24.444359Z",
     "start_time": "2025-10-02T01:17:24.424667Z"
    }
   },
   "cell_type": "code",
   "source": [
    "resp = rq.get(URL + \"display\")\n",
    "j = resp.json()\n",
    "print(j.get(\"hand\"))\n",
    "# print(resp.get(\"hand\"))"
   ],
   "id": "9bc74c66ac77e37f",
   "outputs": [
    {
     "name": "stdout",
     "output_type": "stream",
     "text": [
      "2025-10-02 02:17:24,432 [INFO] Player hand: []\n",
      "[]\n"
     ]
    }
   ],
   "execution_count": 14
  },
  {
   "metadata": {},
   "cell_type": "markdown",
   "source": "### Rock",
   "id": "b536665395b0746b"
  },
  {
   "metadata": {
    "ExecuteTime": {
     "end_time": "2025-10-02T01:17:09.393939Z",
     "start_time": "2025-10-02T01:17:09.350969Z"
    }
   },
   "cell_type": "code",
   "source": "FE.PlayCard(URL,\"rock\")",
   "id": "4631b127e7e6087",
   "outputs": [
    {
     "name": "stdout",
     "output_type": "stream",
     "text": [
      "2025-10-02 02:17:09,372 [INFO] Player rock received\n",
      "2025-10-02 02:17:09,374 [INFO] Player rock is playing\n",
      "2025-10-02 02:17:09,376 [INFO] AICard:Card.SCISSOR, result: WIN\n",
      "2025-10-02 02:17:09,379 [INFO] Remaining cards:[<Card.DYNAMITE: -1>, <Card.SCISSOR: 3>, <Card.PAPER: 2>]\n",
      "Win\n"
     ]
    },
    {
     "data": {
      "text/plain": [
       "0"
      ]
     },
     "execution_count": 7,
     "metadata": {},
     "output_type": "execute_result"
    }
   ],
   "execution_count": 7
  },
  {
   "metadata": {},
   "cell_type": "markdown",
   "source": "### Paper",
   "id": "2eaed8b84ecdebdf"
  },
  {
   "metadata": {
    "ExecuteTime": {
     "end_time": "2025-10-02T01:17:11.195857Z",
     "start_time": "2025-10-02T01:17:11.157194Z"
    }
   },
   "cell_type": "code",
   "source": "FE.PlayCard(URL,\"paper\")",
   "id": "7b3ac2a7f71f5761",
   "outputs": [
    {
     "name": "stdout",
     "output_type": "stream",
     "text": [
      "2025-10-02 02:17:11,175 [INFO] Player paper received\n",
      "2025-10-02 02:17:11,177 [INFO] Player paper is playing\n",
      "2025-10-02 02:17:11,179 [INFO] AICard:Card.DYNAMITE, result: LOSE\n",
      "2025-10-02 02:17:11,182 [INFO] Remaining cards:[<Card.DYNAMITE: -1>, <Card.SCISSOR: 3>]\n",
      "Lose\n"
     ]
    },
    {
     "data": {
      "text/plain": [
       "0"
      ]
     },
     "execution_count": 8,
     "metadata": {},
     "output_type": "execute_result"
    }
   ],
   "execution_count": 8
  },
  {
   "metadata": {},
   "cell_type": "markdown",
   "source": "### Scissors",
   "id": "f56c61776f318c56"
  },
  {
   "metadata": {
    "ExecuteTime": {
     "end_time": "2025-10-02T01:17:12.522652Z",
     "start_time": "2025-10-02T01:17:12.482457Z"
    }
   },
   "cell_type": "code",
   "source": "FE.PlayCard(URL,\"scissors\")",
   "id": "b75b95d83ecae4be",
   "outputs": [
    {
     "name": "stdout",
     "output_type": "stream",
     "text": [
      "2025-10-02 02:17:12,502 [INFO] Player scissors received\n",
      "2025-10-02 02:17:12,505 [INFO] Player scissors is playing\n",
      "2025-10-02 02:17:12,508 [INFO] AICard:Card.SCISSOR, result: DRAW\n",
      "2025-10-02 02:17:12,509 [INFO] Remaining cards:[<Card.DYNAMITE: -1>]\n",
      "Draw\n"
     ]
    },
    {
     "data": {
      "text/plain": [
       "0"
      ]
     },
     "execution_count": 9,
     "metadata": {},
     "output_type": "execute_result"
    }
   ],
   "execution_count": 9
  },
  {
   "metadata": {},
   "cell_type": "markdown",
   "source": "### Dynamite",
   "id": "7347825ad2d890f1"
  },
  {
   "metadata": {
    "ExecuteTime": {
     "end_time": "2025-10-02T01:17:14.196218Z",
     "start_time": "2025-10-02T01:17:14.131350Z"
    }
   },
   "cell_type": "code",
   "source": "FE.PlayCard(URL,\"dynamite\")",
   "id": "7e3dcc108d3f03c8",
   "outputs": [
    {
     "name": "stdout",
     "output_type": "stream",
     "text": [
      "2025-10-02 02:17:14,162 [INFO] Player dynamite received\n",
      "2025-10-02 02:17:14,166 [INFO] Player dynamite is playing\n",
      "2025-10-02 02:17:14,180 [INFO] AICard:Card.SCISSOR, result: WIN\n",
      "2025-10-02 02:17:14,182 [INFO] Remaining cards:[]\n",
      "Win\n"
     ]
    },
    {
     "data": {
      "text/plain": [
       "0"
      ]
     },
     "execution_count": 10,
     "metadata": {},
     "output_type": "execute_result"
    }
   ],
   "execution_count": 10
  },
  {
   "metadata": {},
   "cell_type": "markdown",
   "source": "# Score",
   "id": "a29349acef9be749"
  },
  {
   "metadata": {
    "ExecuteTime": {
     "end_time": "2025-10-02T01:17:17.094682Z",
     "start_time": "2025-10-02T01:17:17.067111Z"
    }
   },
   "cell_type": "code",
   "source": "FE.GetScore(URL)",
   "id": "797cbfcc5337e302",
   "outputs": [
    {
     "name": "stdout",
     "output_type": "stream",
     "text": [
      "{'human': 3, 'ai': 1}\n",
      "Human: 3\n",
      "AI: 1\n"
     ]
    },
    {
     "data": {
      "text/plain": [
       "0"
      ]
     },
     "execution_count": 11,
     "metadata": {},
     "output_type": "execute_result"
    }
   ],
   "execution_count": 11
  }
 ],
 "metadata": {
  "kernelspec": {
   "display_name": "Python 3",
   "language": "python",
   "name": "python3"
  },
  "language_info": {
   "codemirror_mode": {
    "name": "ipython",
    "version": 2
   },
   "file_extension": ".py",
   "mimetype": "text/x-python",
   "name": "python",
   "nbconvert_exporter": "python",
   "pygments_lexer": "ipython2",
   "version": "2.7.6"
  }
 },
 "nbformat": 4,
 "nbformat_minor": 5
}
