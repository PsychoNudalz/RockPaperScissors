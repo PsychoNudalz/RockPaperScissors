{
 "cells": [
  {
   "metadata": {},
   "cell_type": "markdown",
   "source": "# Initialise",
   "id": "46dd7ad24398ea3"
  },
  {
   "metadata": {
    "collapsed": true
   },
   "cell_type": "code",
   "source": [
    "import Game_FrontEnd as FE\n",
    "from Game_API import *\n",
    "import requests as rq\n",
    "import init\n",
    "\n",
    "IP = \"127.0.0.1\"\n",
    "PORT = 8000\n",
    "URL = f\"http://{IP}:{PORT}/\"\n",
    "start_server()"
   ],
   "id": "198fb2641a3b13c5",
   "outputs": [],
   "execution_count": null
  },
  {
   "metadata": {},
   "cell_type": "markdown",
   "source": [
    "# Server Controls (Optional)\n",
    "Don't touch it unless server is broken\n"
   ],
   "id": "8900fbe92669cfe7"
  },
  {
   "metadata": {},
   "cell_type": "code",
   "source": "start_server()  # starts FastAPI in the background",
   "id": "c98e74f546a6f01e",
   "outputs": [],
   "execution_count": null
  },
  {
   "metadata": {},
   "cell_type": "code",
   "source": "stop_server()  # stops the server without killing the notebook",
   "id": "1904551446089036",
   "outputs": [],
   "execution_count": null
  },
  {
   "metadata": {},
   "cell_type": "code",
   "source": [
    "response = rq.get(\"http://127.0.0.1:8000/ping\")\n",
    "print(response.json())"
   ],
   "id": "b6413fffdf2c28db",
   "outputs": [],
   "execution_count": null
  },
  {
   "metadata": {},
   "cell_type": "markdown",
   "source": "# Start Game",
   "id": "3213c6abd291bc8d"
  },
  {
   "metadata": {},
   "cell_type": "code",
   "source": [
    "# Run server inside Jupyter\n",
    "resp = rq.get(URL + \"start\")\n",
    "print(resp.json())"
   ],
   "id": "19966a84ccb4b24e",
   "outputs": [],
   "execution_count": null
  },
  {
   "metadata": {},
   "cell_type": "markdown",
   "source": "# Playing Game",
   "id": "2e75fa11754f4449"
  },
  {
   "metadata": {},
   "cell_type": "markdown",
   "source": "## Display Cards",
   "id": "5b7832a366351bae"
  },
  {
   "metadata": {},
   "cell_type": "code",
   "source": [
    "resp = rq.get(URL + \"display\")\n",
    "j = resp.json()\n",
    "print(j.get(\"hand\"))\n",
    "# print(resp.get(\"hand\"))"
   ],
   "id": "9bc74c66ac77e37f",
   "outputs": [],
   "execution_count": null
  },
  {
   "metadata": {},
   "cell_type": "markdown",
   "source": "## Playing Hand",
   "id": "c741ffd0789d93af"
  },
  {
   "metadata": {},
   "cell_type": "markdown",
   "source": "### Rock",
   "id": "b536665395b0746b"
  },
  {
   "metadata": {},
   "cell_type": "code",
   "source": "FE.PlayCard(URL,\"rock\")",
   "id": "4631b127e7e6087",
   "outputs": [],
   "execution_count": null
  },
  {
   "metadata": {},
   "cell_type": "markdown",
   "source": "### Paper",
   "id": "2eaed8b84ecdebdf"
  },
  {
   "metadata": {},
   "cell_type": "code",
   "source": "FE.PlayCard(URL,\"paper\")",
   "id": "7b3ac2a7f71f5761",
   "outputs": [],
   "execution_count": null
  },
  {
   "metadata": {},
   "cell_type": "markdown",
   "source": "### Scissors",
   "id": "f56c61776f318c56"
  },
  {
   "metadata": {},
   "cell_type": "code",
   "source": "FE.PlayCard(URL,\"scissors\")",
   "id": "b75b95d83ecae4be",
   "outputs": [],
   "execution_count": null
  },
  {
   "metadata": {},
   "cell_type": "markdown",
   "source": "### Dynamite",
   "id": "7347825ad2d890f1"
  },
  {
   "metadata": {},
   "cell_type": "code",
   "source": "FE.PlayCard(URL,\"dynamite\")",
   "id": "7e3dcc108d3f03c8",
   "outputs": [],
   "execution_count": null
  },
  {
   "metadata": {},
   "cell_type": "markdown",
   "source": "# Score",
   "id": "a29349acef9be749"
  },
  {
   "metadata": {},
   "cell_type": "code",
   "source": "FE.GetScore(URL)",
   "id": "797cbfcc5337e302",
   "outputs": [],
   "execution_count": null
  }
 ],
 "metadata": {
  "kernelspec": {
   "display_name": "Python 3",
   "language": "python",
   "name": "python3"
  },
  "language_info": {
   "codemirror_mode": {
    "name": "ipython",
    "version": 2
   },
   "file_extension": ".py",
   "mimetype": "text/x-python",
   "name": "python",
   "nbconvert_exporter": "python",
   "pygments_lexer": "ipython2",
   "version": "2.7.6"
  }
 },
 "nbformat": 4,
 "nbformat_minor": 5
}
