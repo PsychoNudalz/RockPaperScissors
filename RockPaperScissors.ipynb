{
 "cells": [
  {
   "metadata": {},
   "cell_type": "markdown",
   "source": "# Initialise",
   "id": "46dd7ad24398ea3"
  },
  {
   "metadata": {
    "collapsed": true,
    "ExecuteTime": {
     "end_time": "2025-10-02T00:47:34.014185Z",
     "start_time": "2025-10-02T00:47:32.897692Z"
    }
   },
   "cell_type": "code",
   "source": [
    "import Game_FrontEnd as FE\n",
    "from Game_API import *\n",
    "import requests as rq\n",
    "import init\n",
    "\n",
    "IP = \"127.0.0.1\"\n",
    "PORT = 8000\n",
    "URL = f\"http://{IP}:{PORT}/\"\n",
    "start_server()"
   ],
   "id": "198fb2641a3b13c5",
   "outputs": [
    {
     "name": "stdout",
     "output_type": "stream",
     "text": [
      "2025-10-02 01:47:33,995 [INFO] Logging test working\n",
      "2025-10-02 01:47:34,005 [INFO] Server running at http://127.0.0.1:8000/\n"
     ]
    },
    {
     "name": "stderr",
     "output_type": "stream",
     "text": [
      "INFO:     Started server process [4388]\n",
      "INFO:     Waiting for application startup.\n",
      "INFO:     Application startup complete.\n",
      "INFO:     Uvicorn running on http://127.0.0.1:8000 (Press CTRL+C to quit)\n"
     ]
    },
    {
     "name": "stdout",
     "output_type": "stream",
     "text": [
      "INFO:     127.0.0.1:63306 - \"GET /start HTTP/1.1\" 200 OK\n",
      "INFO:     127.0.0.1:63310 - \"GET /display HTTP/1.1\" 200 OK\n",
      "INFO:     127.0.0.1:63313 - \"POST /play?move=rock HTTP/1.1\" 200 OK\n",
      "INFO:     127.0.0.1:63319 - \"POST /play?move=paper HTTP/1.1\" 200 OK\n",
      "INFO:     127.0.0.1:63321 - \"POST /play?move=paper HTTP/1.1\" 200 OK\n",
      "INFO:     127.0.0.1:63322 - \"POST /play?move=paper HTTP/1.1\" 200 OK\n",
      "INFO:     127.0.0.1:63327 - \"POST /play?move=scissors HTTP/1.1\" 200 OK\n",
      "INFO:     127.0.0.1:63328 - \"POST /play?move=scissors HTTP/1.1\" 200 OK\n",
      "INFO:     127.0.0.1:63330 - \"POST /play?move=scissors HTTP/1.1\" 200 OK\n",
      "INFO:     127.0.0.1:63332 - \"POST /play?move=scissors HTTP/1.1\" 200 OK\n",
      "INFO:     127.0.0.1:63334 - \"POST /play?move=dynamite HTTP/1.1\" 200 OK\n",
      "INFO:     127.0.0.1:63336 - \"POST /play?move=dynamite HTTP/1.1\" 200 OK\n",
      "INFO:     127.0.0.1:63337 - \"POST /play?move=dynamite HTTP/1.1\" 200 OK\n",
      "INFO:     127.0.0.1:63338 - \"POST /play?move=dynamite HTTP/1.1\" 200 OK\n",
      "INFO:     127.0.0.1:63339 - \"POST /play?move=dynamite HTTP/1.1\" 200 OK\n",
      "INFO:     127.0.0.1:63343 - \"POST /play?move=dynamite HTTP/1.1\" 200 OK\n",
      "INFO:     127.0.0.1:63344 - \"POST /play?move=dynamite HTTP/1.1\" 200 OK\n",
      "INFO:     127.0.0.1:63345 - \"POST /play?move=dynamite HTTP/1.1\" 200 OK\n",
      "INFO:     127.0.0.1:63347 - \"POST /play?move=dynamite HTTP/1.1\" 200 OK\n",
      "INFO:     127.0.0.1:63348 - \"POST /play?move=dynamite HTTP/1.1\" 200 OK\n",
      "INFO:     127.0.0.1:63349 - \"POST /play?move=dynamite HTTP/1.1\" 200 OK\n",
      "INFO:     127.0.0.1:63350 - \"POST /play?move=dynamite HTTP/1.1\" 200 OK\n"
     ]
    }
   ],
   "execution_count": 1
  },
  {
   "metadata": {},
   "cell_type": "markdown",
   "source": "# Server Controls",
   "id": "8900fbe92669cfe7"
  },
  {
   "metadata": {
    "ExecuteTime": {
     "end_time": "2025-10-02T00:32:28.412074Z",
     "start_time": "2025-10-02T00:32:28.403064Z"
    }
   },
   "cell_type": "code",
   "source": "start_server()  # starts FastAPI in the background",
   "id": "c98e74f546a6f01e",
   "outputs": [
    {
     "name": "stderr",
     "output_type": "stream",
     "text": [
      "INFO:     Started server process [17168]\n",
      "INFO:     Waiting for application startup.\n",
      "INFO:     Application startup complete.\n",
      "ERROR:    [Errno 10048] error while attempting to bind on address ('127.0.0.1', 8000): [winerror 10048] only one usage of each socket address (protocol/network address/port) is normally permitted\n",
      "INFO:     Waiting for application shutdown.\n",
      "INFO:     Application shutdown complete.\n"
     ]
    }
   ],
   "execution_count": 36
  },
  {
   "metadata": {
    "ExecuteTime": {
     "end_time": "2025-10-02T00:11:19.455741Z",
     "start_time": "2025-10-02T00:11:19.450483Z"
    }
   },
   "cell_type": "code",
   "source": "stop_server()  # stops the server without killing the notebook",
   "id": "1904551446089036",
   "outputs": [],
   "execution_count": 5
  },
  {
   "metadata": {
    "ExecuteTime": {
     "end_time": "2025-10-02T00:32:59.043915Z",
     "start_time": "2025-10-02T00:32:59.031246Z"
    }
   },
   "cell_type": "code",
   "source": [
    "response = rq.get(\"http://127.0.0.1:8000/ping\")\n",
    "print(response.json())"
   ],
   "id": "b6413fffdf2c28db",
   "outputs": [
    {
     "name": "stdout",
     "output_type": "stream",
     "text": [
      "{'status': 'alive'}\n"
     ]
    }
   ],
   "execution_count": 45
  },
  {
   "metadata": {},
   "cell_type": "markdown",
   "source": "# Start Game",
   "id": "3213c6abd291bc8d"
  },
  {
   "metadata": {
    "ExecuteTime": {
     "end_time": "2025-10-02T00:47:36.808595Z",
     "start_time": "2025-10-02T00:47:36.761574Z"
    }
   },
   "cell_type": "code",
   "source": [
    "# Run server inside Jupyter\n",
    "resp = rq.get(URL + \"start\")\n",
    "print(resp.json())"
   ],
   "id": "19966a84ccb4b24e",
   "outputs": [
    {
     "name": "stdout",
     "output_type": "stream",
     "text": [
      "2025-10-02 01:47:36,792 [INFO] Human Cards:[<Card.PAPER: 2>, <Card.SCISSOR: 3>, <Card.SCISSOR: 3>, <Card.DYNAMITE: -1>, <Card.PAPER: 2>]\n",
      "{'message': 'Rock, Paper, Scissors, Dynamite has begun!'}\n"
     ]
    }
   ],
   "execution_count": 2
  },
  {
   "metadata": {},
   "cell_type": "markdown",
   "source": "# Playing Game",
   "id": "2e75fa11754f4449"
  },
  {
   "metadata": {},
   "cell_type": "code",
   "source": "",
   "id": "1ebb78485311e661",
   "outputs": [],
   "execution_count": null
  },
  {
   "metadata": {},
   "cell_type": "markdown",
   "source": "## Display Cards",
   "id": "5b7832a366351bae"
  },
  {
   "metadata": {
    "ExecuteTime": {
     "end_time": "2025-10-02T00:47:40.171979Z",
     "start_time": "2025-10-02T00:47:40.152297Z"
    }
   },
   "cell_type": "code",
   "source": [
    "resp = rq.get(URL + \"display\")\n",
    "j = resp.json()\n",
    "print(j.get(\"hand\"))\n",
    "# print(resp.get(\"hand\"))"
   ],
   "id": "9bc74c66ac77e37f",
   "outputs": [
    {
     "name": "stdout",
     "output_type": "stream",
     "text": [
      "2025-10-02 01:47:40,162 [INFO] Player hand: ['PAPER', 'SCISSOR', 'SCISSOR', 'DYNAMITE', 'PAPER']\n",
      "['PAPER', 'SCISSOR', 'SCISSOR', 'DYNAMITE', 'PAPER']\n"
     ]
    }
   ],
   "execution_count": 3
  },
  {
   "metadata": {},
   "cell_type": "markdown",
   "source": "### Rock",
   "id": "b536665395b0746b"
  },
  {
   "metadata": {
    "ExecuteTime": {
     "end_time": "2025-10-02T00:47:44.703605Z",
     "start_time": "2025-10-02T00:47:44.679623Z"
    }
   },
   "cell_type": "code",
   "source": "FE.PlayCard(URL,\"rock\")",
   "id": "4631b127e7e6087",
   "outputs": [
    {
     "name": "stdout",
     "output_type": "stream",
     "text": [
      "2025-10-02 01:47:44,688 [INFO] Player rock received\n",
      "2025-10-02 01:47:44,690 [INFO] Player rock is playing\n",
      "2025-10-02 01:47:44,693 [INFO] Card Card.ROCK not in Human\n"
     ]
    }
   ],
   "execution_count": 4
  },
  {
   "metadata": {},
   "cell_type": "markdown",
   "source": "### Paper",
   "id": "2eaed8b84ecdebdf"
  },
  {
   "metadata": {
    "ExecuteTime": {
     "end_time": "2025-10-02T00:47:56.273354Z",
     "start_time": "2025-10-02T00:47:56.237370Z"
    }
   },
   "cell_type": "code",
   "source": "FE.PlayCard(URL,\"paper\")",
   "id": "7b3ac2a7f71f5761",
   "outputs": [
    {
     "name": "stdout",
     "output_type": "stream",
     "text": [
      "2025-10-02 01:47:56,250 [INFO] Player paper received\n",
      "2025-10-02 01:47:56,256 [INFO] Player paper is playing\n",
      "2025-10-02 01:47:56,258 [INFO] AICard:Card.SCISSOR, result: LOSE\n",
      "Lose\n"
     ]
    }
   ],
   "execution_count": 7
  },
  {
   "metadata": {},
   "cell_type": "markdown",
   "source": "### Scissors",
   "id": "f56c61776f318c56"
  },
  {
   "metadata": {
    "ExecuteTime": {
     "end_time": "2025-10-02T00:48:05.867477Z",
     "start_time": "2025-10-02T00:48:05.848167Z"
    }
   },
   "cell_type": "code",
   "source": "FE.PlayCard(URL,\"scissors\")",
   "id": "b75b95d83ecae4be",
   "outputs": [
    {
     "name": "stdout",
     "output_type": "stream",
     "text": [
      "2025-10-02 01:48:05,856 [INFO] Player scissors received\n",
      "2025-10-02 01:48:05,857 [INFO] Player scissors is playing\n",
      "2025-10-02 01:48:05,858 [INFO] AICard:Card.SCISSOR, result: DRAW\n",
      "Draw\n"
     ]
    }
   ],
   "execution_count": 11
  },
  {
   "metadata": {},
   "cell_type": "markdown",
   "source": "### Dynamite",
   "id": "7347825ad2d890f1"
  },
  {
   "metadata": {
    "ExecuteTime": {
     "end_time": "2025-10-02T00:48:17.889863Z",
     "start_time": "2025-10-02T00:48:17.861656Z"
    }
   },
   "cell_type": "code",
   "source": "FE.PlayCard(URL,\"dynamite\")",
   "id": "7e3dcc108d3f03c8",
   "outputs": [
    {
     "name": "stdout",
     "output_type": "stream",
     "text": [
      "2025-10-02 01:48:17,871 [INFO] Player dynamite received\n",
      "2025-10-02 01:48:17,874 [INFO] Player dynamite is playing\n",
      "2025-10-02 01:48:17,876 [INFO] AICard:Card.ROCK, result: WIN\n",
      "Win\n"
     ]
    }
   ],
   "execution_count": 23
  },
  {
   "metadata": {},
   "cell_type": "markdown",
   "source": "# Score",
   "id": "a29349acef9be749"
  },
  {
   "metadata": {},
   "cell_type": "code",
   "outputs": [],
   "execution_count": null,
   "source": "",
   "id": "797cbfcc5337e302"
  }
 ],
 "metadata": {
  "kernelspec": {
   "display_name": "Python 3",
   "language": "python",
   "name": "python3"
  },
  "language_info": {
   "codemirror_mode": {
    "name": "ipython",
    "version": 2
   },
   "file_extension": ".py",
   "mimetype": "text/x-python",
   "name": "python",
   "nbconvert_exporter": "python",
   "pygments_lexer": "ipython2",
   "version": "2.7.6"
  }
 },
 "nbformat": 4,
 "nbformat_minor": 5
}
