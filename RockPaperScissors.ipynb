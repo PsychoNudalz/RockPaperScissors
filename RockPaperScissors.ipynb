{
 "cells": [
  {
   "metadata": {},
   "cell_type": "markdown",
   "source": "# Initialise",
   "id": "46dd7ad24398ea3"
  },
  {
   "metadata": {
    "collapsed": true
   },
   "cell_type": "code",
   "source": [
    "import Game_FrontEnd as FE\n",
    "from Game_API import *\n",
    "import requests as rq\n",
    "import init\n",
    "\n",
    "IP = \"127.0.0.1\"\n",
    "PORT = 8000\n",
    "URL = f\"http://{IP}:{PORT}/\"\n",
    "start_server()"
   ],
   "id": "198fb2641a3b13c5",
   "outputs": [
    {
     "name": "stdout",
     "output_type": "stream",
     "text": [
      "INFO:     127.0.0.1:57270 - \"GET /start HTTP/1.1\" 200 OK\n",
      "INFO:     127.0.0.1:57274 - \"GET /display HTTP/1.1\" 200 OK\n",
      "INFO:     127.0.0.1:49370 - \"GET /GECheck HTTP/1.1\" 200 OK\n",
      "INFO:     127.0.0.1:49371 - \"POST /play?move=rock HTTP/1.1\" 200 OK\n",
      "INFO:     127.0.0.1:49376 - \"GET /GECheck HTTP/1.1\" 200 OK\n",
      "INFO:     127.0.0.1:49377 - \"POST /play?move=paper HTTP/1.1\" 200 OK\n",
      "INFO:     127.0.0.1:64880 - \"GET /display HTTP/1.1\" 200 OK\n",
      "INFO:     127.0.0.1:64883 - \"GET /GECheck HTTP/1.1\" 200 OK\n",
      "INFO:     127.0.0.1:64884 - \"POST /play?move=scissors HTTP/1.1\" 200 OK\n",
      "INFO:     127.0.0.1:64896 - \"GET /GECheck HTTP/1.1\" 200 OK\n",
      "INFO:     127.0.0.1:64897 - \"POST /play?move=scissors HTTP/1.1\" 200 OK\n",
      "INFO:     127.0.0.1:64899 - \"GET /GECheck HTTP/1.1\" 200 OK\n",
      "INFO:     127.0.0.1:64900 - \"POST /play?move=dynamite HTTP/1.1\" 200 OK\n",
      "INFO:     127.0.0.1:64903 - \"GET /GECheck HTTP/1.1\" 200 OK\n",
      "INFO:     127.0.0.1:64904 - \"GET /score HTTP/1.1\" 200 OK\n"
     ]
    }
   ],
   "execution_count": null
  },
  {
   "metadata": {},
   "cell_type": "markdown",
   "source": [
    "# Server Controls (Optional)\n",
    "Don't touch it unless server is broken\n"
   ],
   "id": "8900fbe92669cfe7"
  },
  {
   "metadata": {},
   "cell_type": "code",
   "source": "start_server()  # starts FastAPI in the background",
   "id": "c98e74f546a6f01e",
   "outputs": [],
   "execution_count": null
  },
  {
   "metadata": {},
   "cell_type": "code",
   "source": "stop_server()  # stops the server without killing the notebook",
   "id": "1904551446089036",
   "outputs": [],
   "execution_count": null
  },
  {
   "metadata": {},
   "cell_type": "code",
   "source": [
    "response = rq.get(\"http://127.0.0.1:8000/ping\")\n",
    "print(response.json())"
   ],
   "id": "b6413fffdf2c28db",
   "outputs": [],
   "execution_count": null
  },
  {
   "metadata": {},
   "cell_type": "markdown",
   "source": "# Start Game",
   "id": "3213c6abd291bc8d"
  },
  {
   "metadata": {
    "ExecuteTime": {
     "end_time": "2025-10-02T03:25:00.483018Z",
     "start_time": "2025-10-02T03:25:00.468685Z"
    }
   },
   "cell_type": "code",
   "source": [
    "# Run server inside Jupyter\n",
    "resp = rq.get(URL + \"start\")\n",
    "print(resp.json())"
   ],
   "id": "19966a84ccb4b24e",
   "outputs": [
    {
     "name": "stdout",
     "output_type": "stream",
     "text": [
      "2025-10-02 13:25:00,477 [INFO] Human Cards:[<Card.DYNAMITE: 'dynamite'>, <Card.SCISSOR: 'scissor'>, <Card.ROCK: 'rock'>, <Card.SCISSOR: 'scissor'>, <Card.PAPER: 'paper'>]\n",
      "{'message': 'Rock, Paper, Scissors, Dynamite has begun!'}\n"
     ]
    }
   ],
   "execution_count": 2
  },
  {
   "metadata": {},
   "cell_type": "markdown",
   "source": "# Playing Game",
   "id": "2e75fa11754f4449"
  },
  {
   "metadata": {},
   "cell_type": "markdown",
   "source": "## Display Cards",
   "id": "5b7832a366351bae"
  },
  {
   "metadata": {
    "ExecuteTime": {
     "end_time": "2025-10-02T03:25:15.460574Z",
     "start_time": "2025-10-02T03:25:15.451821Z"
    }
   },
   "cell_type": "code",
   "source": [
    "resp = rq.get(URL + \"display\")\n",
    "j = resp.json()\n",
    "print(j.get(\"hand\"))\n",
    "# print(resp.get(\"hand\"))"
   ],
   "id": "9bc74c66ac77e37f",
   "outputs": [
    {
     "name": "stdout",
     "output_type": "stream",
     "text": [
      "2025-10-02 13:25:15,455 [INFO] Player hand: ['DYNAMITE', 'SCISSOR', 'SCISSOR']\n",
      "['DYNAMITE', 'SCISSOR', 'SCISSOR']\n"
     ]
    }
   ],
   "execution_count": 6
  },
  {
   "metadata": {},
   "cell_type": "markdown",
   "source": "## Playing Hand",
   "id": "c741ffd0789d93af"
  },
  {
   "metadata": {},
   "cell_type": "markdown",
   "source": "### Rock",
   "id": "b536665395b0746b"
  },
  {
   "metadata": {
    "ExecuteTime": {
     "end_time": "2025-10-02T03:25:03.818429Z",
     "start_time": "2025-10-02T03:25:03.803696Z"
    }
   },
   "cell_type": "code",
   "source": "FE.PlayCard(URL,\"rock\")",
   "id": "4631b127e7e6087",
   "outputs": [
    {
     "name": "stdout",
     "output_type": "stream",
     "text": [
      "2025-10-02 13:25:03,810 [INFO] Player rock received\n",
      "2025-10-02 13:25:03,810 [INFO] Player Card.ROCK is playing\n",
      "2025-10-02 13:25:03,811 [INFO] AICard:Card.DYNAMITE, result: LOSE\n",
      "2025-10-02 13:25:03,811 [INFO] Remaining cards:[<Card.DYNAMITE: 'dynamite'>, <Card.SCISSOR: 'scissor'>, <Card.SCISSOR: 'scissor'>, <Card.PAPER: 'paper'>]\n",
      "Lose\n"
     ]
    },
    {
     "data": {
      "text/plain": [
       "0"
      ]
     },
     "execution_count": 4,
     "metadata": {},
     "output_type": "execute_result"
    }
   ],
   "execution_count": 4
  },
  {
   "metadata": {},
   "cell_type": "markdown",
   "source": "### Paper",
   "id": "2eaed8b84ecdebdf"
  },
  {
   "metadata": {
    "ExecuteTime": {
     "end_time": "2025-10-02T03:25:10.698274Z",
     "start_time": "2025-10-02T03:25:10.684288Z"
    }
   },
   "cell_type": "code",
   "source": "FE.PlayCard(URL,\"paper\")",
   "id": "7b3ac2a7f71f5761",
   "outputs": [
    {
     "name": "stdout",
     "output_type": "stream",
     "text": [
      "2025-10-02 13:25:10,691 [INFO] Player paper received\n",
      "2025-10-02 13:25:10,692 [INFO] Player Card.PAPER is playing\n",
      "2025-10-02 13:25:10,692 [INFO] AICard:Card.PAPER, result: DRAW\n",
      "2025-10-02 13:25:10,693 [INFO] Remaining cards:[<Card.DYNAMITE: 'dynamite'>, <Card.SCISSOR: 'scissor'>, <Card.SCISSOR: 'scissor'>]\n",
      "Draw\n"
     ]
    },
    {
     "data": {
      "text/plain": [
       "0"
      ]
     },
     "execution_count": 5,
     "metadata": {},
     "output_type": "execute_result"
    }
   ],
   "execution_count": 5
  },
  {
   "metadata": {},
   "cell_type": "markdown",
   "source": "### Scissors",
   "id": "f56c61776f318c56"
  },
  {
   "metadata": {
    "ExecuteTime": {
     "end_time": "2025-10-02T03:25:30.250405Z",
     "start_time": "2025-10-02T03:25:30.238429Z"
    }
   },
   "cell_type": "code",
   "source": "FE.PlayCard(URL,\"scissors\")",
   "id": "b75b95d83ecae4be",
   "outputs": [
    {
     "name": "stdout",
     "output_type": "stream",
     "text": [
      "2025-10-02 13:25:30,244 [INFO] Player scissors received\n",
      "2025-10-02 13:25:30,244 [INFO] Player Card.SCISSOR is playing\n",
      "2025-10-02 13:25:30,244 [INFO] AICard:Card.SCISSOR, result: DRAW\n",
      "2025-10-02 13:25:30,245 [INFO] Remaining cards:[<Card.DYNAMITE: 'dynamite'>]\n",
      "Draw\n"
     ]
    },
    {
     "data": {
      "text/plain": [
       "0"
      ]
     },
     "execution_count": 8,
     "metadata": {},
     "output_type": "execute_result"
    }
   ],
   "execution_count": 8
  },
  {
   "metadata": {},
   "cell_type": "markdown",
   "source": "### Dynamite",
   "id": "7347825ad2d890f1"
  },
  {
   "metadata": {
    "ExecuteTime": {
     "end_time": "2025-10-02T03:25:32.444855Z",
     "start_time": "2025-10-02T03:25:32.431707Z"
    }
   },
   "cell_type": "code",
   "source": "FE.PlayCard(URL,\"dynamite\")",
   "id": "7e3dcc108d3f03c8",
   "outputs": [
    {
     "name": "stdout",
     "output_type": "stream",
     "text": [
      "2025-10-02 13:25:32,438 [INFO] Player dynamite received\n",
      "2025-10-02 13:25:32,439 [INFO] Player Card.DYNAMITE is playing\n",
      "2025-10-02 13:25:32,439 [INFO] AICard:Card.SCISSOR, result: WIN\n",
      "2025-10-02 13:25:32,440 [INFO] Remaining cards:[]\n",
      "Win\n"
     ]
    },
    {
     "data": {
      "text/plain": [
       "0"
      ]
     },
     "execution_count": 9,
     "metadata": {},
     "output_type": "execute_result"
    }
   ],
   "execution_count": 9
  },
  {
   "metadata": {},
   "cell_type": "markdown",
   "source": "# Score",
   "id": "a29349acef9be749"
  },
  {
   "metadata": {
    "ExecuteTime": {
     "end_time": "2025-10-02T03:25:34.749321Z",
     "start_time": "2025-10-02T03:25:34.739167Z"
    }
   },
   "cell_type": "code",
   "source": "FE.GetScore(URL)",
   "id": "797cbfcc5337e302",
   "outputs": [
    {
     "name": "stdout",
     "output_type": "stream",
     "text": [
      "Human: 1\n",
      "AI: 2\n"
     ]
    },
    {
     "data": {
      "text/plain": [
       "0"
      ]
     },
     "execution_count": 10,
     "metadata": {},
     "output_type": "execute_result"
    }
   ],
   "execution_count": 10
  }
 ],
 "metadata": {
  "kernelspec": {
   "display_name": "Python 3",
   "language": "python",
   "name": "python3"
  },
  "language_info": {
   "codemirror_mode": {
    "name": "ipython",
    "version": 2
   },
   "file_extension": ".py",
   "mimetype": "text/x-python",
   "name": "python",
   "nbconvert_exporter": "python",
   "pygments_lexer": "ipython2",
   "version": "2.7.6"
  }
 },
 "nbformat": 4,
 "nbformat_minor": 5
}
