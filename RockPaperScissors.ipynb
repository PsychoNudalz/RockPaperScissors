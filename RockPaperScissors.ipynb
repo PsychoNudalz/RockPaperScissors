{
 "cells": [
  {
   "metadata": {},
   "cell_type": "markdown",
   "source": "# Initialise",
   "id": "46dd7ad24398ea3"
  },
  {
   "metadata": {
    "collapsed": true,
    "ExecuteTime": {
     "end_time": "2025-10-01T23:17:44.972700Z",
     "start_time": "2025-10-01T23:17:44.721540Z"
    }
   },
   "cell_type": "code",
   "source": [
    "import Game_FrontEnd as FE\n",
    "from Game_API import *\n",
    "import requests as rq\n",
    "\n",
    "IP = \"127.0.0.1\"\n",
    "PORT = 8000\n",
    "URL = f\"http://{IP}:{PORT}/\"\n",
    "start_server()"
   ],
   "id": "198fb2641a3b13c5",
   "outputs": [
    {
     "name": "stdout",
     "output_type": "stream",
     "text": [
      "[<Card.DYNAMITE: -1>, <Card.DYNAMITE: -1>, <Card.PAPER: 2>, <Card.ROCK: 1>, <Card.DYNAMITE: -1>]\n",
      "[<Card.DYNAMITE: -1>, <Card.DYNAMITE: -1>, <Card.PAPER: 2>, <Card.ROCK: 1>, <Card.DYNAMITE: -1>]\n"
     ]
    },
    {
     "name": "stderr",
     "output_type": "stream",
     "text": [
      "INFO:     Started server process [19604]\n",
      "INFO:     Waiting for application startup.\n",
      "INFO:     Application startup complete.\n",
      "INFO:     Uvicorn running on http://127.0.0.1:8000 (Press CTRL+C to quit)\n"
     ]
    },
    {
     "name": "stdout",
     "output_type": "stream",
     "text": [
      "INFO:     127.0.0.1:64623 - \"GET /start HTTP/1.1\" 200 OK\n",
      "INFO:     127.0.0.1:64628 - \"GET /display HTTP/1.1\" 200 OK\n"
     ]
    }
   ],
   "execution_count": 1
  },
  {
   "metadata": {},
   "cell_type": "markdown",
   "source": "# Server Controls",
   "id": "8900fbe92669cfe7"
  },
  {
   "metadata": {},
   "cell_type": "code",
   "source": "start_server()  # starts FastAPI in the background",
   "id": "c98e74f546a6f01e",
   "outputs": [],
   "execution_count": null
  },
  {
   "metadata": {},
   "cell_type": "code",
   "source": "stop_server()  # stops the server without killing the notebook",
   "id": "1904551446089036",
   "outputs": [],
   "execution_count": null
  },
  {
   "metadata": {},
   "cell_type": "code",
   "source": [
    "response = rq.get(\"http://127.0.0.1:8000/ping\")\n",
    "print(response.json())"
   ],
   "id": "b6413fffdf2c28db",
   "outputs": [],
   "execution_count": null
  },
  {
   "metadata": {},
   "cell_type": "markdown",
   "source": "# Start Game",
   "id": "3213c6abd291bc8d"
  },
  {
   "metadata": {
    "ExecuteTime": {
     "end_time": "2025-10-01T23:17:46.873866Z",
     "start_time": "2025-10-01T23:17:46.861379Z"
    }
   },
   "cell_type": "code",
   "source": [
    "# Run server inside Jupyter\n",
    "resp = rq.get(URL+\"start\")\n",
    "print(resp.json())"
   ],
   "id": "19966a84ccb4b24e",
   "outputs": [
    {
     "name": "stdout",
     "output_type": "stream",
     "text": [
      "[<Card.ROCK: 1>, <Card.PAPER: 2>, <Card.DYNAMITE: -1>, <Card.DYNAMITE: -1>, <Card.ROCK: 1>]\n",
      "{'message': 'Rock, Paper, Scissors, Dynamite has begun!'}\n"
     ]
    }
   ],
   "execution_count": 2
  },
  {
   "metadata": {},
   "cell_type": "markdown",
   "source": "# Playing Game",
   "id": "2e75fa11754f4449"
  },
  {
   "metadata": {},
   "cell_type": "code",
   "source": "",
   "id": "1ebb78485311e661",
   "outputs": [],
   "execution_count": null
  },
  {
   "metadata": {},
   "cell_type": "markdown",
   "source": "## Display Cards",
   "id": "5b7832a366351bae"
  },
  {
   "metadata": {
    "ExecuteTime": {
     "end_time": "2025-10-01T23:17:49.990537Z",
     "start_time": "2025-10-01T23:17:49.982378Z"
    }
   },
   "cell_type": "code",
   "source": [
    "resp = rq.get(URL+\"display\")\n",
    "j = resp.json()\n",
    "print(j.get(\"hand\"))\n",
    "# print(resp.get(\"hand\"))"
   ],
   "id": "9bc74c66ac77e37f",
   "outputs": [
    {
     "name": "stdout",
     "output_type": "stream",
     "text": [
      "['ROCK', 'PAPER', 'DYNAMITE', 'DYNAMITE', 'ROCK']\n"
     ]
    }
   ],
   "execution_count": 3
  },
  {
   "metadata": {},
   "cell_type": "markdown",
   "source": "### Rock",
   "id": "b536665395b0746b"
  },
  {
   "metadata": {},
   "cell_type": "markdown",
   "source": "### Paper",
   "id": "2eaed8b84ecdebdf"
  },
  {
   "metadata": {},
   "cell_type": "markdown",
   "source": "### Scissors",
   "id": "f56c61776f318c56"
  },
  {
   "metadata": {},
   "cell_type": "markdown",
   "source": "### Dynomite",
   "id": "7347825ad2d890f1"
  }
 ],
 "metadata": {
  "kernelspec": {
   "display_name": "Python 3",
   "language": "python",
   "name": "python3"
  },
  "language_info": {
   "codemirror_mode": {
    "name": "ipython",
    "version": 2
   },
   "file_extension": ".py",
   "mimetype": "text/x-python",
   "name": "python",
   "nbconvert_exporter": "python",
   "pygments_lexer": "ipython2",
   "version": "2.7.6"
  }
 },
 "nbformat": 4,
 "nbformat_minor": 5
}
