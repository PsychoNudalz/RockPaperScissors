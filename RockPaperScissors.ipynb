{
 "cells": [
  {
   "metadata": {},
   "cell_type": "markdown",
   "source": "# Initialise",
   "id": "46dd7ad24398ea3"
  },
  {
   "metadata": {
    "collapsed": true,
    "ExecuteTime": {
     "end_time": "2025-10-01T21:55:18.287898Z",
     "start_time": "2025-10-01T21:55:18.029677Z"
    }
   },
   "cell_type": "code",
   "source": [
    "from Game_FrontEnd import *\n",
    "from Game_API import *\n",
    "import requests"
   ],
   "id": "198fb2641a3b13c5",
   "outputs": [],
   "execution_count": 1
  },
  {
   "metadata": {},
   "cell_type": "markdown",
   "source": "# Server Controls",
   "id": "e254d34fc2638de7"
  },
  {
   "metadata": {
    "ExecuteTime": {
     "end_time": "2025-10-01T21:57:11.375520Z",
     "start_time": "2025-10-01T21:57:11.351937Z"
    }
   },
   "cell_type": "code",
   "source": "start_server()  # starts FastAPI in the background",
   "id": "c98e74f546a6f01e",
   "outputs": [
    {
     "name": "stdout",
     "output_type": "stream",
     "text": [
      "Server running at http://127.0.0.1:8000\n"
     ]
    },
    {
     "name": "stderr",
     "output_type": "stream",
     "text": [
      "INFO:     Started server process [35752]\n",
      "INFO:     Waiting for application startup.\n",
      "INFO:     Application startup complete.\n",
      "INFO:     Uvicorn running on http://127.0.0.1:8000 (Press CTRL+C to quit)\n"
     ]
    },
    {
     "name": "stdout",
     "output_type": "stream",
     "text": [
      "INFO:     127.0.0.1:61854 - \"GET /ping HTTP/1.1\" 200 OK\n",
      "INFO:     127.0.0.1:61856 - \"GET /ping HTTP/1.1\" 200 OK\n",
      "INFO:     127.0.0.1:61874 - \"GET /start HTTP/1.1\" 200 OK\n"
     ]
    }
   ],
   "execution_count": 4
  },
  {
   "metadata": {
    "ExecuteTime": {
     "end_time": "2025-10-01T21:55:37.013161Z",
     "start_time": "2025-10-01T21:55:37.010233Z"
    }
   },
   "cell_type": "code",
   "source": "stop_server()   # stops the server without killing the notebook",
   "id": "1904551446089036",
   "outputs": [
    {
     "name": "stdout",
     "output_type": "stream",
     "text": [
      "Stopping server...\n"
     ]
    }
   ],
   "execution_count": 3
  },
  {
   "metadata": {
    "ExecuteTime": {
     "end_time": "2025-10-01T21:57:16.708135Z",
     "start_time": "2025-10-01T21:57:16.701072Z"
    }
   },
   "cell_type": "code",
   "source": [
    "response = requests.get(\"http://127.0.0.1:8000/ping\")\n",
    "print(response.json())"
   ],
   "id": "b6413fffdf2c28db",
   "outputs": [
    {
     "name": "stdout",
     "output_type": "stream",
     "text": [
      "{'status': 'alive'}\n"
     ]
    }
   ],
   "execution_count": 6
  },
  {
   "metadata": {},
   "cell_type": "markdown",
   "source": "# Start Game",
   "id": "3213c6abd291bc8d"
  },
  {
   "metadata": {
    "ExecuteTime": {
     "end_time": "2025-10-01T21:57:32.685743Z",
     "start_time": "2025-10-01T21:57:32.679452Z"
    }
   },
   "cell_type": "code",
   "source": [
    "# Run server inside Jupyter\n",
    "resp = requests.get(\"http://127.0.0.1:8000/start\")\n",
    "print(resp.json())"
   ],
   "id": "19966a84ccb4b24e",
   "outputs": [
    {
     "name": "stdout",
     "output_type": "stream",
     "text": [
      "{'message': 'Rock, Paper, Scissors, Dynamite has begun!'}\n"
     ]
    }
   ],
   "execution_count": 7
  },
  {
   "metadata": {},
   "cell_type": "markdown",
   "source": "# Playing Game",
   "id": "2e75fa11754f4449"
  },
  {
   "metadata": {},
   "cell_type": "code",
   "outputs": [],
   "execution_count": null,
   "source": "",
   "id": "b79d75a48e9922a4"
  },
  {
   "metadata": {},
   "cell_type": "code",
   "outputs": [],
   "execution_count": null,
   "source": "",
   "id": "1ebb78485311e661"
  },
  {
   "metadata": {},
   "cell_type": "markdown",
   "source": "## Display Cards",
   "id": "5b7832a366351bae"
  },
  {
   "metadata": {},
   "cell_type": "markdown",
   "source": "### Rock",
   "id": "b536665395b0746b"
  },
  {
   "metadata": {},
   "cell_type": "markdown",
   "source": "### Paper",
   "id": "2eaed8b84ecdebdf"
  },
  {
   "metadata": {},
   "cell_type": "markdown",
   "source": "### Scissors",
   "id": "f56c61776f318c56"
  },
  {
   "metadata": {},
   "cell_type": "markdown",
   "source": "### Dynomite",
   "id": "7347825ad2d890f1"
  }
 ],
 "metadata": {
  "kernelspec": {
   "display_name": "Python 3",
   "language": "python",
   "name": "python3"
  },
  "language_info": {
   "codemirror_mode": {
    "name": "ipython",
    "version": 2
   },
   "file_extension": ".py",
   "mimetype": "text/x-python",
   "name": "python",
   "nbconvert_exporter": "python",
   "pygments_lexer": "ipython2",
   "version": "2.7.6"
  }
 },
 "nbformat": 4,
 "nbformat_minor": 5
}
